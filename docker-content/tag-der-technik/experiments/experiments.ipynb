{
 "cells": [
  {
   "cell_type": "markdown",
   "metadata": {},
   "source": [
    "# Tag der Technik"
   ]
  },
  {
   "cell_type": "code",
   "execution_count": null,
   "metadata": {},
   "outputs": [],
   "source": [
    "from definitions import fetch_completion, extract_between\n",
    "\n",
    "TASK = \"You will be given an arithmetic question. Calculate the result. Your answer should be wrapped in the XML-tags <Result></Result>.\"\n",
    "EXAMPLES = [\n",
    "    (\"1+1\", \"<Result>2</Result>\"),\n",
    "    (\"2*3\", \"<Result>6</Result>\"),\n",
    "    (\"11*2\", \"<Result>22</Result>\"),\n",
    "]\n",
    "\n",
    "def calculate(expression: str) -> float:\n",
    "    response = fetch_completion(TASK, expression, EXAMPLES)\n",
    "    return float(extract_between(response, \"<Result>\", \"</Result>\"))"
   ]
  },
  {
   "cell_type": "code",
   "execution_count": null,
   "metadata": {},
   "outputs": [],
   "source": [
    "print(calculate(\"3+5\"))\n",
    "print(calculate(\"3+4*5\"))\n",
    "print(calculate(\"3*4/2\"))\n",
    "print(calculate(\"3/2\"))"
   ]
  },
  {
   "cell_type": "markdown",
   "metadata": {},
   "source": [
    "## Prompt Engineering"
   ]
  },
  {
   "cell_type": "markdown",
   "metadata": {},
   "source": [
    "## Validieren"
   ]
  },
  {
   "cell_type": "markdown",
   "metadata": {},
   "source": [
    "## Testen"
   ]
  }
 ],
 "metadata": {
  "language_info": {
   "name": "python"
  }
 },
 "nbformat": 4,
 "nbformat_minor": 2
}
