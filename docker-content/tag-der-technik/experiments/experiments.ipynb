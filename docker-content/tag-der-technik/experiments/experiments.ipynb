{
 "cells": [
  {
   "cell_type": "markdown",
   "metadata": {},
   "source": [
    "# Tag der Technik\n",
    "\n",
    "Willkommen zum Tag der Technik `TEXT TEXT TEXT`\n",
    "\n",
    "## Aufgaben\n",
    "### Aufgabe 1 &mdash; Autoren Eintragen\n",
    "Trage deinen Namen (und ggf. deine Schule) an der entsprechenden Stelle in `paper.tex` ein.\n",
    "\n",
    "### Aufgabe 2 &mdash; LaTeX and Python\n",
    "\n",
    "### Aufgabe 3 &mdash; Forschen"
   ]
  },
  {
   "cell_type": "markdown",
   "metadata": {},
   "source": [
    "#### Einen Prompt formulieren, der die Aufgabe löst\n",
    "\n",
    "Come up with your own task that should allow for evaluation of the results on different topics or scenarios. Examples of such tasks are:\n",
    "- Explaining a difficult concept (e.g., what a metaphor is)\n",
    "- Cooking recipes or lists of ingredients for different meals\n",
    "- Etymologies of different fictional or non-fictional words and phrases\n",
    "- Communication skills: Given a socially difficult situation, the model should provide helpful advice\n",
    "- ..."
   ]
  },
  {
   "cell_type": "code",
   "execution_count": 2,
   "metadata": {},
   "outputs": [],
   "source": [
    "TOPICS = [\"school\", \"work\"]\n",
    "\n",
    "PROMPT_SIMPLE = \"Write a joke about the topic '{topic}'.\"\n",
    "\n",
    "PROMPT_ADVANCED = \"Write a very funny joke about the topic '{topic}'.\"\n",
    "\n",
    "PROMPT_EXPERT = \"You are an expert comedian with years of experience in writing the perfect jokes. Given the topic '{topic}', come up with the perfect joke.\"\n"
   ]
  },
  {
   "cell_type": "markdown",
   "metadata": {},
   "source": [
    "#### Evaluation"
   ]
  },
  {
   "cell_type": "code",
   "execution_count": 23,
   "metadata": {},
   "outputs": [
    {
     "data": {
      "text/html": [
       "<h2>school</h2>"
      ],
      "text/plain": [
       "<IPython.core.display.HTML object>"
      ]
     },
     "metadata": {},
     "output_type": "display_data"
    },
    {
     "data": {
      "application/vnd.jupyter.widget-view+json": {
       "model_id": "309744d9d72941e69568bcb8a1fa1886",
       "version_major": 2,
       "version_minor": 0
      },
      "text/plain": [
       "HBox(children=(HTML(value=''), HTML(value=\"<p style='border: 1px solid gray; padding: 2pt 5pt;'>\\nWhy don't ma…"
      ]
     },
     "metadata": {},
     "output_type": "display_data"
    },
    {
     "data": {
      "application/vnd.jupyter.widget-view+json": {
       "model_id": "ae95ddf86e6740d9be2472b188769884",
       "version_major": 2,
       "version_minor": 0
      },
      "text/plain": [
       "HBox(children=(Label(value='Rating from 1 (bad) to 5 (good)'), IntSlider(value=3, max=5, min=1)))"
      ]
     },
     "metadata": {},
     "output_type": "display_data"
    },
    {
     "data": {
      "application/vnd.jupyter.widget-view+json": {
       "model_id": "edba66fcd0714e16ac49a113876155d3",
       "version_major": 2,
       "version_minor": 0
      },
      "text/plain": [
       "HBox(children=(HTML(value=''), HTML(value=\"<p style='border: 1px solid gray; padding: 2pt 5pt;'>Why don't math…"
      ]
     },
     "metadata": {},
     "output_type": "display_data"
    },
    {
     "data": {
      "application/vnd.jupyter.widget-view+json": {
       "model_id": "27e08883778e4fe782e5069b77930b9c",
       "version_major": 2,
       "version_minor": 0
      },
      "text/plain": [
       "HBox(children=(Label(value='Rating from 1 (bad) to 5 (good)'), IntSlider(value=3, max=5, min=1)))"
      ]
     },
     "metadata": {},
     "output_type": "display_data"
    },
    {
     "data": {
      "application/vnd.jupyter.widget-view+json": {
       "model_id": "44bc338a88974fa08f0a03034f383a72",
       "version_major": 2,
       "version_minor": 0
      },
      "text/plain": [
       "HBox(children=(HTML(value=''), HTML(value=\"<p style='border: 1px solid gray; padding: 2pt 5pt;'> Why don't sch…"
      ]
     },
     "metadata": {},
     "output_type": "display_data"
    },
    {
     "data": {
      "application/vnd.jupyter.widget-view+json": {
       "model_id": "93aec0172f8a4fa0b0810c42fd56ffde",
       "version_major": 2,
       "version_minor": 0
      },
      "text/plain": [
       "HBox(children=(Label(value='Rating from 1 (bad) to 5 (good)'), IntSlider(value=3, max=5, min=1)))"
      ]
     },
     "metadata": {},
     "output_type": "display_data"
    },
    {
     "data": {
      "application/vnd.jupyter.widget-view+json": {
       "model_id": "4437afdc9142460888b9d26761b77fd1",
       "version_major": 2,
       "version_minor": 0
      },
      "text/plain": [
       "Output()"
      ]
     },
     "metadata": {},
     "output_type": "display_data"
    },
    {
     "data": {
      "text/html": [
       "<h2>work</h2>"
      ],
      "text/plain": [
       "<IPython.core.display.HTML object>"
      ]
     },
     "metadata": {},
     "output_type": "display_data"
    },
    {
     "data": {
      "application/vnd.jupyter.widget-view+json": {
       "model_id": "085df62759784e03a279abf7dd32f19c",
       "version_major": 2,
       "version_minor": 0
      },
      "text/plain": [
       "HBox(children=(HTML(value=''), HTML(value='<p style=\\'border: 1px solid gray; padding: 2pt 5pt;\\'>Why don\\'t w…"
      ]
     },
     "metadata": {},
     "output_type": "display_data"
    },
    {
     "data": {
      "application/vnd.jupyter.widget-view+json": {
       "model_id": "6a8fc087e9754eceb24be103fc3f7886",
       "version_major": 2,
       "version_minor": 0
      },
      "text/plain": [
       "HBox(children=(Label(value='Rating from 1 (bad) to 5 (good)'), IntSlider(value=3, max=5, min=1)))"
      ]
     },
     "metadata": {},
     "output_type": "display_data"
    },
    {
     "data": {
      "application/vnd.jupyter.widget-view+json": {
       "model_id": "cec32d8937094592ab4e1fbe6bb835b1",
       "version_major": 2,
       "version_minor": 0
      },
      "text/plain": [
       "HBox(children=(HTML(value=''), HTML(value=\"<p style='border: 1px solid gray; padding: 2pt 5pt;'>Ah, work - the…"
      ]
     },
     "metadata": {},
     "output_type": "display_data"
    },
    {
     "data": {
      "application/vnd.jupyter.widget-view+json": {
       "model_id": "e83db20d64514aef85212cfbe26ce9dd",
       "version_major": 2,
       "version_minor": 0
      },
      "text/plain": [
       "HBox(children=(Label(value='Rating from 1 (bad) to 5 (good)'), IntSlider(value=3, max=5, min=1)))"
      ]
     },
     "metadata": {},
     "output_type": "display_data"
    },
    {
     "data": {
      "application/vnd.jupyter.widget-view+json": {
       "model_id": "73d1e8b4aadc4315a2a3d34b76279ca5",
       "version_major": 2,
       "version_minor": 0
      },
      "text/plain": [
       "HBox(children=(HTML(value=''), HTML(value=\"<p style='border: 1px solid gray; padding: 2pt 5pt;'>\\nI recently g…"
      ]
     },
     "metadata": {},
     "output_type": "display_data"
    },
    {
     "data": {
      "application/vnd.jupyter.widget-view+json": {
       "model_id": "2a9921f2b0c5478181415da16ff21a2b",
       "version_major": 2,
       "version_minor": 0
      },
      "text/plain": [
       "HBox(children=(Label(value='Rating from 1 (bad) to 5 (good)'), IntSlider(value=3, max=5, min=1)))"
      ]
     },
     "metadata": {},
     "output_type": "display_data"
    },
    {
     "data": {
      "application/vnd.jupyter.widget-view+json": {
       "model_id": "e3fe58c32c8f41728043016058473aa9",
       "version_major": 2,
       "version_minor": 0
      },
      "text/plain": [
       "Output()"
      ]
     },
     "metadata": {},
     "output_type": "display_data"
    },
    {
     "data": {
      "application/vnd.jupyter.widget-view+json": {
       "model_id": "6440fdf4fe374eb9beaee03b49c8e761",
       "version_major": 2,
       "version_minor": 0
      },
      "text/plain": [
       "Button(description='Save', style=ButtonStyle())"
      ]
     },
     "metadata": {},
     "output_type": "display_data"
    }
   ],
   "source": [
    "! pip install -q ipywidgets\n",
    "import random\n",
    "import ipywidgets as widgets\n",
    "from asyncio import Event, Future\n",
    "from IPython.display import display, HTML\n",
    "\n",
    "from definitions import fetch_response, extract_between\n",
    "\n",
    "TEMPLATE = \"{prompt} Your answer must be enclosed in the tags <Response></Response>.\"\n",
    "PROMPTS = {\"Simple\": PROMPT_SIMPLE, \"Advanced\": PROMPT_ADVANCED, \"Expert\": PROMPT_EXPERT}\n",
    "\n",
    "tags = []\n",
    "def get_ratings(outputs: dict) -> dict[str, widgets.IntSlider]:\n",
    "    ratings = {}\n",
    "    for name, out in outputs.items():\n",
    "        slider = widgets.IntSlider(min=1, max=5, description=\"\", value=3)\n",
    "        tag = widgets.HTML(value=\"\")\n",
    "        text = widgets.HBox([\n",
    "            tag,\n",
    "            widgets.HTML(value=f\"<p style='border: 1px solid gray; padding: 2pt 5pt;'>{out}<p>\", disabled=True),\n",
    "        ])\n",
    "        tags.append((name, tag))\n",
    "        display(text, widgets.HBox([widgets.Label(value=\"Rating from 1 (bad) to 5 (good)\"), slider]))\n",
    "        ratings[name] = slider\n",
    "    display(widgets.Output())\n",
    "    return ratings\n",
    "\n",
    "\n",
    "ratings = {}\n",
    "for topic in TOPICS:\n",
    "    display(HTML(f\"<h2>{topic}</h2>\"))\n",
    "    outputs = {}\n",
    "    for name, prompt in random.sample(list(PROMPTS.items()), len(PROMPTS.items())):\n",
    "        inp = TEMPLATE.format_map({\"prompt\": prompt}).format_map({\"topic\": topic})\n",
    "        outputs[name] = fetch_response(inp)\n",
    "    ratings[topic] = get_ratings(outputs)\n",
    "\n",
    "def save(ratings: dict):\n",
    "    # unblind\n",
    "    colors = {\n",
    "        \"Simple\": \"#cd7f32\",\n",
    "        \"Advanced\": \"#c0c0c0\",\n",
    "        \"Expert\": \"#d4af37\"\n",
    "    }\n",
    "    for val, elem in tags:\n",
    "        elem.value = f\"<p style='padding: 2pt 5pt; background-color: {colors[val]}; border-radius: 5pt; width: 2cm;'>{val.title()}:</p>\"\n",
    "    # store results\n",
    "    with open(\"./results.csv\", mode=\"w\") as csv:\n",
    "        csv.write(\"Topic Prompt Rating\\n\")    \n",
    "        for topic, rs in ratings.items():\n",
    "            for prompt, val in rs.items():\n",
    "                csv.write(f\"{topic.replace(' ', r'\\ ')} {prompt.replace(' ', r'\\ ')} {val.value}\\n\")\n",
    "    # store prompts\n",
    "    with open(\"./prompts.csv\", mode=\"w\") as csv:\n",
    "        csv.write(\"Name Prompt\\n\")\n",
    "        csv.writelines(f\"{k.replace(' ', r'\\ ')} {v.replace(' ', r'\\ ')}\\n\" for k, v in PROMPTS.items())\n",
    "    # store topics\n",
    "    with open(\"./topics.txt\", mode=\"w\") as txt:\n",
    "        txt.write(\"{\"+\"},{\".join(TOPICS)+\"}\")\n",
    "\n",
    "submitBtn = widgets.Button(description=\"Save\")\n",
    "submitBtn.on_click(lambda _: save(ratings))\n",
    "display(submitBtn)\n"
   ]
  },
  {
   "cell_type": "markdown",
   "metadata": {},
   "source": [
    "### Aufgabe 4 &mdash; Paper schreiben"
   ]
  }
 ],
 "metadata": {
  "kernelspec": {
   "display_name": "Python 3",
   "language": "python",
   "name": "python3"
  },
  "language_info": {
   "codemirror_mode": {
    "name": "ipython",
    "version": 3
   },
   "file_extension": ".py",
   "mimetype": "text/x-python",
   "name": "python",
   "nbconvert_exporter": "python",
   "pygments_lexer": "ipython3",
   "version": "3.12.5"
  }
 },
 "nbformat": 4,
 "nbformat_minor": 2
}
