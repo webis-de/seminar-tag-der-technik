{
 "cells": [
  {
   "cell_type": "markdown",
   "metadata": {},
   "source": [
    "# Tag der Technik\n",
    "\n",
    "Willkommen zum Tag der Technik `TEXT TEXT TEXT`\n",
    "\n",
    "## Aufgaben\n",
    "### Aufgabe 1 &mdash; Autoren Eintragen\n",
    "Trage deinen Namen (und ggf. deine Schule) an der entsprechenden Stelle in `paper.tex` ein.\n",
    "\n",
    "### Aufgabe 2 &mdash; Mit LaTeX und Python vertraut machen\n",
    "\n",
    "### Aufgabe 3 &mdash; Eine Forschungsfrage entwickeln und Experimentieren"
   ]
  },
  {
   "cell_type": "code",
   "execution_count": null,
   "metadata": {},
   "outputs": [],
   "source": [
    "from definitions import fetch_completion, extract_between\n",
    "\n",
    "TASK = \"You will be given an arithmetic question. Calculate the result. Your answer should be wrapped in the XML-tags <Result></Result>.\"\n",
    "EXAMPLES = [\n",
    "    (\"1+1\", \"<Result>2</Result>\"),\n",
    "    (\"2*3\", \"<Result>6</Result>\"),\n",
    "    (\"11*2\", \"<Result>22</Result>\"),\n",
    "]\n",
    "\n",
    "def calculate(expression: str) -> float:\n",
    "    response = fetch_completion(TASK, expression, EXAMPLES)\n",
    "    return float(extract_between(response, \"<Result>\", \"</Result>\"))"
   ]
  },
  {
   "cell_type": "code",
   "execution_count": null,
   "metadata": {},
   "outputs": [],
   "source": [
    "print(calculate(\"3+5\"))\n",
    "print(calculate(\"3+4*5\"))\n",
    "print(calculate(\"3*4/2\"))\n",
    "print(calculate(\"3/2\"))"
   ]
  },
  {
   "cell_type": "markdown",
   "metadata": {},
   "source": [
    "### Aufgabe 4 &mdash; Paper schreiben"
   ]
  }
 ],
 "metadata": {
  "language_info": {
   "name": "python"
  }
 },
 "nbformat": 4,
 "nbformat_minor": 2
}
