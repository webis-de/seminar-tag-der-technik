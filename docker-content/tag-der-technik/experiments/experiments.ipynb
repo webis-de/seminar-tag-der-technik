{
 "cells": [
  {
   "cell_type": "markdown",
   "metadata": {},
   "source": [
    "# Tag der Technik 2024 @ University of Kassel\n",
    "## LLM Research and Paper Writing\n",
    "Labor E12 with the Deep Semantic Learning Group (Niklas Deckers &amp; Tim Hagen)\n",
    "\n",
    "## Steps\n",
    "### Step 1 &mdash; Fill in Author Information\n",
    "Open `paper.tex` and fill in your names (and, if you like, school and email) at the appropriate `\\todo{...}`.\n",
    "\n",
    "### Step 2 &mdash; Experimental Setup in Python\n",
    "The template we prepared for you is setup already to contain the basic structure of the experiments and of the resulting paper. Execute the following example."
   ]
  },
  {
   "cell_type": "code",
   "execution_count": null,
   "metadata": {},
   "outputs": [],
   "source": [
    "# In Step 3, you will replace these topics with your own (for interesting results, come up with at least 10 different)\n",
    "TOPICS = [\"school\", \"work\", \"animals\", \"science\", \"cars\", \"cats\", \"internet\", \"computers\", \"geography\", \"trains\"]\n",
    "\n",
    "# In Step 3, you will replace these prompts according to your own task\n",
    "PROMPT_SIMPLE = \"Write a joke about the topic '{topic}'.\"\n",
    "PROMPT_ADVANCED = \"Write a very funny joke about the topic '{topic}'.\"\n",
    "PROMPT_EXPERT = \"You are an expert comedian with years of experience in writing the perfect jokes. Given the topic '{topic}', come up with the perfect joke.\"\n"
   ]
  },
  {
   "cell_type": "markdown",
   "metadata": {},
   "source": [
    "#### Evaluation"
   ]
  },
  {
   "cell_type": "code",
   "execution_count": null,
   "metadata": {},
   "outputs": [],
   "source": [
    "! pip install -q ipywidgets\n",
    "import random\n",
    "import ipywidgets as widgets\n",
    "from asyncio import Event, Future\n",
    "from IPython.display import display, HTML\n",
    "\n",
    "from definitions import fetch_response, extract_between\n",
    "\n",
    "TEMPLATE = \"{prompt} Your answer must be enclosed in the tags <Response></Response>.\"\n",
    "PROMPTS = {\"Simple\": PROMPT_SIMPLE, \"Advanced\": PROMPT_ADVANCED, \"Expert\": PROMPT_EXPERT}\n",
    "\n",
    "tags = []\n",
    "def get_ratings(outputs: dict) -> dict[str, widgets.IntSlider]:\n",
    "    ratings = {}\n",
    "    for name, out in outputs.items():\n",
    "        slider = widgets.IntSlider(min=1, max=5, description=\"\", value=3)\n",
    "        tag = widgets.HTML(value=\"\")\n",
    "        text = widgets.HBox([\n",
    "            tag,\n",
    "            widgets.HTML(value=f\"<p style='border: 1px solid gray; padding: 2pt 5pt;'>{out}<p>\", disabled=True),\n",
    "        ])\n",
    "        tags.append((name, tag))\n",
    "        display(text, widgets.HBox([widgets.Label(value=\"Rating from 1 (bad) to 5 (good)\"), slider]))\n",
    "        ratings[name] = slider\n",
    "    display(widgets.Output())\n",
    "    return ratings\n",
    "\n",
    "\n",
    "ratings = {}\n",
    "for topic in TOPICS:\n",
    "    display(HTML(f\"<h2>{topic}</h2>\"))\n",
    "    outputs = {}\n",
    "    for name, prompt in random.sample(list(PROMPTS.items()), len(PROMPTS.items())):\n",
    "        inp = TEMPLATE.format_map({\"prompt\": prompt}).format_map({\"topic\": topic})\n",
    "        outputs[name] = fetch_response(inp)\n",
    "    ratings[topic] = get_ratings(outputs)\n",
    "\n",
    "def save(ratings: dict):\n",
    "    # unblind\n",
    "    colors = {\n",
    "        \"Simple\": \"#cd7f32\",\n",
    "        \"Advanced\": \"#c0c0c0\",\n",
    "        \"Expert\": \"#d4af37\"\n",
    "    }\n",
    "    for val, elem in tags:\n",
    "        elem.value = f\"<p style='padding: 2pt 5pt; background-color: {colors[val]}; border-radius: 5pt; width: 2cm;'>{val.title()}:</p>\"\n",
    "    # store results\n",
    "    with open(\"./results.csv\", mode=\"w\") as csv:\n",
    "        csv.write(\"Topic Prompt Rating\\n\")    \n",
    "        for topic, rs in ratings.items():\n",
    "            for prompt, val in rs.items():\n",
    "                csv.write(f\"{topic.replace(' ', r'\\ ')} {prompt.replace(' ', r'\\ ')} {val.value}\\n\")\n",
    "    # store prompts\n",
    "    with open(\"./prompts.csv\", mode=\"w\") as csv:\n",
    "        csv.write(\"Name Prompt\\n\")\n",
    "        csv.writelines(f\"{k.replace(' ', r'\\ ')} {v.replace(' ', r'\\ ')}\\n\" for k, v in PROMPTS.items())\n",
    "    # store topics\n",
    "    with open(\"./topics.txt\", mode=\"w\") as txt:\n",
    "        txt.write(\"{\"+\"},{\".join(TOPICS)+\"}\")\n",
    "\n",
    "submitBtn = widgets.Button(description=\"Save\")\n",
    "submitBtn.on_click(lambda _: save(ratings))\n",
    "display(submitBtn)\n"
   ]
  },
  {
   "cell_type": "markdown",
   "metadata": {},
   "source": [
    "### Step 3 &mdash; Adapt the Experiments\n",
    "Come up with your own task that should allow for evaluation of the generated results on different topics or scenarios. Examples of such tasks are:\n",
    "- Explaining a difficult concept (e.g., what a metaphor is)\n",
    "- Cooking recipes or lists of ingredients for different meals\n",
    "- Etymologies of different fictional or non-fictional words and phrases\n",
    "- Communication skills: Given a socially difficult situation, the model should provide helpful advice\n",
    "- ...\n",
    "\n",
    "Modify the code above according to the task you came up with. Make sure to include three fitting prompts resembling different levels of expertise.\n",
    "\n",
    "\n",
    "### Step 4 &mdash; Writing the Paper\n",
    "Now that you have got your results, it is time to write the paper. Switch over to LaTeX (`paper.tex`) and replace all remaining `\\todo{...}` as appropriate."
   ]
  }
 ],
 "metadata": {
  "kernelspec": {
   "display_name": "Python 3",
   "language": "python",
   "name": "python3"
  },
  "language_info": {
   "codemirror_mode": {
    "name": "ipython",
    "version": 3
   },
   "file_extension": ".py",
   "mimetype": "text/x-python",
   "name": "python",
   "nbconvert_exporter": "python",
   "pygments_lexer": "ipython3",
   "version": "3.12.5"
  }
 },
 "nbformat": 4,
 "nbformat_minor": 2
}
